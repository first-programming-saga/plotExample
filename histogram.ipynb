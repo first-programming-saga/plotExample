{
  "cells": [
    {
      "attachments": {},
      "cell_type": "markdown",
      "metadata": {},
      "source": [
        "# ヒストグラム\n",
        "データをグループに分け、頻度を求める"
      ]
    },
    {
      "cell_type": "code",
      "execution_count": null,
      "metadata": {
        "trusted": true
      },
      "outputs": [],
      "source": [
        "import matplotlib.pyplot as plt\n",
        "import japanize_matplotlib"
      ]
    },
    {
      "cell_type": "code",
      "execution_count": null,
      "metadata": {
        "trusted": true
      },
      "outputs": [],
      "source": [
        "#元データ\n",
        "data  = [\n",
        "      2.5, 4., 5.5, 9.2, 0.7, 8.8, 6.1, 7.1, 4.3, 1.6,\n",
        "      3.4, 1.4, 7.7, 4.4, 5.5, 9.6, 6.8, 8.6, 2.1,\n",
        "      8.9, 2.9, 1.1, 2.1, 3.7, 2.0, 1.4, 0.5, 5.7]\n",
        "fig, ax = plt.subplots(figsize = (10, 10), facecolor = 'w')\n",
        "plt.rcParams['font.size'] = 24\n",
        "ax.set_title('ヒストグラムの例')\n",
        "\n",
        "numBins = 10 #binの数\n",
        "rWidth = 0.9 #描く幅は、等間隔の幅に対して0.9倍\n",
        "ax.hist(data, range=(0, 10), bins = numBins, \n",
        "      rwidth = rWidth, color = 'cyan')\n",
        "\n",
        "plt.savefig('histogram.pdf')\n",
        "plt.show()"
      ]
    }
  ],
  "metadata": {
    "kernelspec": {
      "display_name": "myenv",
      "language": "python",
      "name": "python3"
    },
    "language_info": {
      "codemirror_mode": {
        "name": "ipython",
        "version": 3
      },
      "file_extension": ".py",
      "mimetype": "text/x-python",
      "name": "python",
      "nbconvert_exporter": "python",
      "pygments_lexer": "ipython3",
      "version": "3.10.8"
    },
    "metadata": {
      "interpreter": {
        "hash": "ddafbbf4347d0b4a8ca2d67a8cf47c9a236a0ee7708cf872d86a0b5d08596010"
      }
    },
    "vscode": {
      "interpreter": {
        "hash": "b3b804b6b7a7d9b475cf928428dd1242016eacc24c47853aaf0f8d1d2228aa39"
      }
    }
  },
  "nbformat": 4,
  "nbformat_minor": 2
}
