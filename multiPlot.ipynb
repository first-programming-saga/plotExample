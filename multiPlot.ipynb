{
  "cells": [
    {
      "cell_type": "markdown",
      "metadata": {},
      "source": [
        "# 左右に二つの図を描く\n",
        "\n",
        "x軸を共有した二つの図"
      ]
    },
    {
      "cell_type": "code",
      "execution_count": null,
      "metadata": {
        "trusted": true
      },
      "outputs": [],
      "source": [
        "import matplotlib.pyplot as plt\n",
        "import math"
      ]
    },
    {
      "cell_type": "markdown",
      "metadata": {},
      "source": [
        "データ生成"
      ]
    },
    {
      "cell_type": "code",
      "execution_count": null,
      "metadata": {
        "trusted": true
      },
      "outputs": [],
      "source": [
        "def createData():\n",
        "    xlist = [0.01 * i - 5 for i in range(1000)]\n",
        "    ylist = []\n",
        "    zlist = []\n",
        "    for x in xlist:\n",
        "        y = math.sin(x)\n",
        "        z = math.cos(x)\n",
        "        ylist.append(y)\n",
        "        zlist.append(z)\n",
        "    return xlist,ylist,zlist"
      ]
    },
    {
      "cell_type": "code",
      "execution_count": null,
      "metadata": {
        "trusted": true
      },
      "outputs": [],
      "source": [
        "def draw(xList,yList,zList):\r\n",
        "    fig, ax = plt.subplots(1, 2, figsize = (20, 10), sharey = True)\r\n",
        "    plt.rcParams[\"mathtext.fontset\"] = 'cm'\r\n",
        "    plt.rcParams['mathtext.default'] = 'it'\r\n",
        "    plt.rcParams['font.size'] = 28#フォントサイズ\r\n",
        "    plt.yticks([-1 + .5 * i for i in range(6)])#y軸の目盛り\r\n",
        "    #二つの図に共通の設定\r\n",
        "    for a in ax:\r\n",
        "        a.set_xlim(-5, 5)\r\n",
        "        a.set_xlabel('$x$')\r\n",
        "        a.tick_params(axis = 'both', length = 15)\r\n",
        "    \r\n",
        "    #最初の図\r\n",
        "    ax[0].set_title('$\\sin(x)$')\r\n",
        "    ax[0].plot(xList, yList)\r\n",
        "    #2番目の図\r\n",
        "    ax[1].set_title('$\\cos(x)$')\r\n",
        "    ax[1].plot(xList, zList)\r\n",
        "    \r\n",
        "    plt.savefig('multiPlot.pdf')\r\n",
        "    plt.show()"
      ]
    },
    {
      "cell_type": "code",
      "execution_count": null,
      "metadata": {
        "trusted": true
      },
      "outputs": [],
      "source": [
        "x, y, z = createData()\n",
        "draw(x, y, z)"
      ]
    },
    {
      "cell_type": "code",
      "execution_count": null,
      "metadata": {
        "trusted": true
      },
      "outputs": [],
      "source": []
    }
  ],
  "metadata": {
    "kernelspec": {
      "name": "python3",
      "display_name": "Python 3.9.4 64-bit ('3.9.4': pyenv)"
    },
    "language_info": {
      "name": "python",
      "version": "3.9.4"
    },
    "metadata": {
      "interpreter": {
        "hash": "ddafbbf4347d0b4a8ca2d67a8cf47c9a236a0ee7708cf872d86a0b5d08596010"
      }
    },
    "orig_nbformat": 3,
    "interpreter": {
      "hash": "8eac0b877443e672c512fc10f9a40a6551a41731384696f22385f08b2b6c8da7"
    }
  },
  "nbformat": 4,
  "nbformat_minor": 2
}