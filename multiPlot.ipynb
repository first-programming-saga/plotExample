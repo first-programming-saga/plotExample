{
  "cells": [
    {
      "attachments": {},
      "cell_type": "markdown",
      "metadata": {},
      "source": [
        "# 左右に二つの図を描く\n",
        "\n",
        "$x$軸を共有した二つの図"
      ]
    },
    {
      "cell_type": "code",
      "execution_count": null,
      "metadata": {
        "trusted": true
      },
      "outputs": [],
      "source": [
        "import matplotlib.pyplot as plt\n",
        "import math"
      ]
    },
    {
      "cell_type": "code",
      "execution_count": null,
      "metadata": {},
      "outputs": [],
      "source": [
        "plt.rcParams[\"mathtext.fontset\"] = 'cm'\n",
        "plt.rcParams['mathtext.default'] = 'it'\n",
        "plt.rcParams['axes.titlesize'] = 20#フォントサイズ\n",
        "plt.rcParams['axes.labelsize'] = 20#フォントサイズ\n",
        "plt.rcParams['figure.subplot.bottom'] = 0.25"
      ]
    },
    {
      "attachments": {},
      "cell_type": "markdown",
      "metadata": {},
      "source": [
        "データ生成"
      ]
    },
    {
      "cell_type": "code",
      "execution_count": null,
      "metadata": {
        "trusted": true
      },
      "outputs": [],
      "source": [
        "def createData()->tuple[list[float],...]:\n",
        "    n = 1024\n",
        "    xList = [0.01 * x - 5 for x in range(n)]\n",
        "    yList = [math.sin(x) for x in xList]\n",
        "    zList = [math.cos(x) for x in xList]\n",
        "    return xList,yList,zList"
      ]
    },
    {
      "attachments": {},
      "cell_type": "markdown",
      "metadata": {},
      "source": [
        "作図を行う関数\n",
        "- 1行2列の図を作成\n",
        "- 共通の作図環境の設定"
      ]
    },
    {
      "cell_type": "code",
      "execution_count": null,
      "metadata": {
        "trusted": true
      },
      "outputs": [],
      "source": [
        "def drawData(xList:list[float], yList:list[float], zList:list[float]):\n",
        "    fig, ax = plt.subplots(1, 2, sharey = True, facecolor = 'white')\n",
        "    #二つの図に共通の設定\n",
        "    for a in ax:\n",
        "        a.set_xlim(-5, 5)\n",
        "        a.set_xlabel('$x$')\n",
        "        a.set_yticks([-1 + .5 * i for i in range(6)])#y軸の目盛り\n",
        "        \n",
        "    #最初の図\n",
        "    ax[0].set_title(r'$\\sin(x)$')\n",
        "    ax[0].plot(xList, yList)\n",
        "    #2番目の図\n",
        "    ax[1].set_title(r'$\\cos(x)$')\n",
        "    ax[1].plot(xList, zList)\n",
        "    \n",
        "    fig.savefig('multiPlot.pdf')\n",
        "    fig.show()"
      ]
    },
    {
      "cell_type": "code",
      "execution_count": null,
      "metadata": {
        "trusted": true
      },
      "outputs": [],
      "source": [
        "x, y, z = createData()\n",
        "drawData(x, y, z)"
      ]
    }
  ],
  "metadata": {
    "kernelspec": {
      "display_name": "myenv",
      "language": "python",
      "name": "python3"
    },
    "language_info": {
      "codemirror_mode": {
        "name": "ipython",
        "version": 3
      },
      "file_extension": ".py",
      "mimetype": "text/x-python",
      "name": "python",
      "nbconvert_exporter": "python",
      "pygments_lexer": "ipython3",
      "version": "3.12.2"
    },
    "metadata": {
      "interpreter": {
        "hash": "ddafbbf4347d0b4a8ca2d67a8cf47c9a236a0ee7708cf872d86a0b5d08596010"
      }
    },
    "orig_nbformat": 3,
    "vscode": {
      "interpreter": {
        "hash": "b3b804b6b7a7d9b475cf928428dd1242016eacc24c47853aaf0f8d1d2228aa39"
      }
    }
  },
  "nbformat": 4,
  "nbformat_minor": 2
}
