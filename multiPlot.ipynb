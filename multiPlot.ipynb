{
  "cells": [
    {
      "cell_type": "markdown",
      "metadata": {},
      "source": [
        "# 左右に二つの図を描く\n",
        "\n",
        "x軸を共有した二つの図"
      ]
    },
    {
      "cell_type": "code",
      "execution_count": null,
      "metadata": {
        "trusted": true
      },
      "outputs": [],
      "source": [
        "import matplotlib.pyplot as plt\n",
        "import math"
      ]
    },
    {
      "cell_type": "markdown",
      "metadata": {},
      "source": [
        "データ生成"
      ]
    },
    {
      "cell_type": "code",
      "execution_count": null,
      "metadata": {
        "trusted": true
      },
      "outputs": [],
      "source": [
        "def createData()->tuple[list[float],list[float],list[float]]:\n",
        "    xlist = [0.01 * i - 5 for i in range(1000)]\n",
        "    ylist = []\n",
        "    zlist = []\n",
        "    for x in xlist:\n",
        "        y = math.sin(x)\n",
        "        z = math.cos(x)\n",
        "        ylist.append(y)\n",
        "        zlist.append(z)\n",
        "    return xlist,ylist,zlist"
      ]
    },
    {
      "cell_type": "code",
      "execution_count": null,
      "metadata": {
        "trusted": true
      },
      "outputs": [],
      "source": [
        "def drawData(xList:list[float], yList:list[float], zList:list[float]):\n",
        "    fig, ax = plt.subplots(1, 2, figsize = (20, 10), \n",
        "        sharey = True, facecolor = 'white')\n",
        "    plt.rcParams[\"mathtext.fontset\"] = 'cm'\n",
        "    plt.rcParams['mathtext.default'] = 'it'\n",
        "    plt.rcParams['axes.titlesize'] = 35#フォントサイズ\n",
        "    plt.rcParams['axes.labelsize'] = 35#フォントサイズ\n",
        "    plt.yticks([-1 + .5 * i for i in range(6)])#y軸の目盛り\n",
        "    #二つの図に共通の設定\n",
        "    for a in ax:\n",
        "        a.set_xlim(-5, 5)\n",
        "        a.set_xlabel('$x$')\n",
        "        a.tick_params(axis = 'both', length = 15)\n",
        "        \n",
        "    #最初の図\n",
        "    ax[0].set_title('$\\sin(x)$')\n",
        "    ax[0].plot(xList, yList)\n",
        "    #2番目の図\n",
        "    ax[1].set_title('$\\cos(x)$')\n",
        "    ax[1].plot(xList, zList)\n",
        "    \n",
        "    plt.savefig('multiPlot.pdf')\n",
        "    plt.show()"
      ]
    },
    {
      "cell_type": "code",
      "execution_count": null,
      "metadata": {
        "trusted": true
      },
      "outputs": [],
      "source": [
        "x, y, z = createData()\n",
        "drawData(x, y, z)"
      ]
    },
    {
      "cell_type": "code",
      "execution_count": null,
      "metadata": {
        "trusted": true
      },
      "outputs": [],
      "source": []
    }
  ],
  "metadata": {
    "interpreter": {
      "hash": "8eac0b877443e672c512fc10f9a40a6551a41731384696f22385f08b2b6c8da7"
    },
    "kernelspec": {
      "display_name": "Python 3.9.4 64-bit ('3.9.4': pyenv)",
      "name": "python3"
    },
    "language_info": {
      "codemirror_mode": {
        "name": "ipython",
        "version": 3
      },
      "file_extension": ".py",
      "mimetype": "text/x-python",
      "name": "python",
      "nbconvert_exporter": "python",
      "pygments_lexer": "ipython3",
      "version": "3.9.9"
    },
    "metadata": {
      "interpreter": {
        "hash": "ddafbbf4347d0b4a8ca2d67a8cf47c9a236a0ee7708cf872d86a0b5d08596010"
      }
    },
    "orig_nbformat": 3
  },
  "nbformat": 4,
  "nbformat_minor": 2
}
