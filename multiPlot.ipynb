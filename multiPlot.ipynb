{
  "cells": [
    {
      "metadata": {},
      "cell_type": "markdown",
      "source": "# 上下に二つの図を描く\n\nx軸を共有した二つの図"
    },
    {
      "metadata": {
        "trusted": true
      },
      "cell_type": "code",
      "source": "import matplotlib.pyplot as plt\nimport math",
      "execution_count": null,
      "outputs": []
    },
    {
      "metadata": {},
      "cell_type": "markdown",
      "source": "データ生成"
    },
    {
      "metadata": {
        "trusted": true
      },
      "cell_type": "code",
      "source": "def createData():\n    xlist = [0.01*i - 5 for i in range(1000)]\n    ylist = []\n    zlist = []\n    for x in xlist:\n        y = math.sin(x)\n        z = math.cos(x)\n        ylist.append(y)\n        zlist.append(z)\n    return xlist,ylist,zlist",
      "execution_count": null,
      "outputs": []
    },
    {
      "metadata": {
        "trusted": true
      },
      "cell_type": "code",
      "source": "def draw(x,y,z):\n    fig,ax=plt.subplots(1,2,figsize=(10,5),sharey=True)\n    ax[0].set_title('sin(x)')\n    ax[0].plot(x,y)\n    ax[1].set_title('cos(x)')\n    ax[1].plot(x,z)\n    plt.show()",
      "execution_count": null,
      "outputs": []
    },
    {
      "metadata": {
        "trusted": true
      },
      "cell_type": "code",
      "source": "x,y,z = createData()\ndraw(x,y,z)",
      "execution_count": null,
      "outputs": []
    },
    {
      "metadata": {
        "trusted": true
      },
      "cell_type": "code",
      "source": "",
      "execution_count": null,
      "outputs": []
    }
  ],
  "metadata": {
    "kernelspec": {
      "name": "python36",
      "display_name": "Python 3.6",
      "language": "python"
    },
    "language_info": {
      "mimetype": "text/x-python",
      "nbconvert_exporter": "python",
      "name": "python",
      "pygments_lexer": "ipython3",
      "version": "3.6.6",
      "file_extension": ".py",
      "codemirror_mode": {
        "version": 3,
        "name": "ipython"
      }
    }
  },
  "nbformat": 4,
  "nbformat_minor": 2
}