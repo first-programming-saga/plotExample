{
  "cells": [
    {
      "metadata": {
        "trusted": true
      },
      "cell_type": "markdown",
      "source": "# 20200709 小テスト課題\n\n九州各県の人口推移を表すプログラムを完成させなさい。"
    },
    {
      "metadata": {
        "trusted": true
      },
      "cell_type": "code",
      "source": "import matplotlib.pyplot as plt",
      "execution_count": null,
      "outputs": []
    },
    {
      "metadata": {
        "trusted": true
      },
      "cell_type": "code",
      "source": "def plotLines(xlist,dataList):\n    plt.figure(figsize=(10,10))\n    for pref in dataList.keys():\n\n        \n    \n    \n    plt.legend(loc = 'center right')\n",
      "execution_count": null,
      "outputs": []
    },
    {
      "metadata": {
        "trusted": true
      },
      "cell_type": "code",
      "source": "xlist = [1990,1995,2000,2005,2010,2015]\ndataList = {'Fukuoka':[4758,4873,4968,5014,5039,5120],\n            'Saga':[882, 885, 884, 874, 859, 847],\n            'Nagasaki':[1573,1554,1532,1502,1450,1413],\n            'Kumamoto':[1848,1862,1870,1858,1834,1818],\n            'Oita':[1246,1243,1236,1225,1207,1191],\n            'Miyazaki':[1182, 1187, 1187, 1173, 1153, 1136],\n            'Kagoshima':[1805,1794, 1787, 1763, 1722, 1691]\n           }\nplotLines(xlist,dataList)\nplt.savefig('20200709.png')\nplt.show()",
      "execution_count": null,
      "outputs": []
    },
    {
      "metadata": {
        "trusted": true
      },
      "cell_type": "code",
      "source": "",
      "execution_count": null,
      "outputs": []
    }
  ],
  "metadata": {
    "kernelspec": {
      "name": "python36",
      "display_name": "Python 3.6",
      "language": "python"
    },
    "language_info": {
      "mimetype": "text/x-python",
      "nbconvert_exporter": "python",
      "name": "python",
      "pygments_lexer": "ipython3",
      "version": "3.6.6",
      "file_extension": ".py",
      "codemirror_mode": {
        "version": 3,
        "name": "ipython"
      }
    }
  },
  "nbformat": 4,
  "nbformat_minor": 2
}