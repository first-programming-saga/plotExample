{
  "cells": [
    {
      "cell_type": "code",
      "execution_count": null,
      "metadata": {
        "trusted": true
      },
      "outputs": [],
      "source": [
        "import matplotlib.patches as pts\n",
        "import matplotlib.pyplot as plt\n",
        "import matplotlib.axes as axes\n",
        "from matplotlib.path import Path\n",
        "import japanize_matplotlib"
      ]
    },
    {
      "cell_type": "code",
      "execution_count": null,
      "metadata": {
        "trusted": true
      },
      "outputs": [],
      "source": [
        "def drawPrepare():#作図の準備\n",
        "   fig,ax=plt.subplots(1,1)\n",
        "   ax.set_facecolor('cyan')#背景色\n",
        "   ax.set_xlim(0,10)\n",
        "   ax.set_ylim(0,10)\n",
        "   ax.tick_params(labelbottom=False,bottom=False)#軸を消す\n",
        "   ax.tick_params(labelleft=False,left=False)\n",
        "   return fig,ax\n"
      ]
    },
    {
      "cell_type": "code",
      "execution_count": null,
      "metadata": {},
      "outputs": [],
      "source": [
        "def createPath(vertList:list[tuple[float,float]])->pts.Patch:\n",
        "    \"\"\"\n",
        "    頂点の列から多角形を生成\n",
        "    \"\"\"\n",
        "    n = len(vertList)\n",
        "    #codesは、各座標への操作\n",
        "    codes :list[Path.code_type]= [Path.MOVETO]#最初は移動\n",
        "    for i in range(n-2):#残りは線を引く\n",
        "        codes.append(Path.LINETO)\n",
        "    codes.append(Path.CLOSEPOLY)#最後に閉じる\n",
        "    path = Path(vertList,codes)#座標と操作を与える\n",
        "    return pts.PathPatch(path,facecolor='orange',lw=2)"
      ]
    },
    {
      "cell_type": "code",
      "execution_count": null,
      "metadata": {
        "trusted": true
      },
      "outputs": [],
      "source": [
        "def drawPatches(ax:axes.Axes):\n",
        "    \"\"\"\n",
        "    図形を生成\n",
        "    \"\"\"\n",
        "    patches:list[pts.Patch]=[]\n",
        "    #円\n",
        "    patches.append(pts.Circle((2,2),1,color='red'))\n",
        "    #四角\n",
        "    patches.append(pts.Rectangle((4,7),4.,2.,color='blue'))\n",
        "    #正多角形\n",
        "    patches.append(pts.RegularPolygon((7,3),5,color='yellow'))\n",
        "    #任意の点の列\n",
        "    verts:list[tuple[float,float]] = [(2.,8.),(3,4),(4,9),(6,2),(8,3)]\n",
        "    verts.append(verts[0])\n",
        "    path = createPath(verts)\n",
        "    patches.append(path)\n",
        "    #図形を追加\n",
        "    for p in patches:\n",
        "        ax.add_patch(p)\n"
      ]
    },
    {
      "cell_type": "code",
      "execution_count": null,
      "metadata": {
        "trusted": true
      },
      "outputs": [],
      "source": [
        "fig, ax = drawPrepare()\n",
        "drawPatches(ax)\n",
        "ax.text(7,5,'テキスト',fontsize=12,color='green')\n",
        "fig.savefig('drawShapes.pdf')\n"
      ]
    }
  ],
  "metadata": {
    "kernelspec": {
      "display_name": "Python 3.9.7 ('myenv')",
      "language": "python",
      "name": "python3"
    },
    "language_info": {
      "codemirror_mode": {
        "name": "ipython",
        "version": 3
      },
      "file_extension": ".py",
      "mimetype": "text/x-python",
      "name": "python",
      "nbconvert_exporter": "python",
      "pygments_lexer": "ipython3",
      "version": "3.12.2"
    },
    "metadata": {
      "interpreter": {
        "hash": "ddafbbf4347d0b4a8ca2d67a8cf47c9a236a0ee7708cf872d86a0b5d08596010"
      }
    },
    "vscode": {
      "interpreter": {
        "hash": "5b50574aca822a4663eeb358827631e5cbe081f130521b0066dec6b864ef6f2f"
      }
    }
  },
  "nbformat": 4,
  "nbformat_minor": 2
}
