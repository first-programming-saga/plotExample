{
  "cells": [
    {
      "metadata": {
        "trusted": true
      },
      "cell_type": "code",
      "source": "import matplotlib.pyplot as plt\nimport matplotlib.patches as pts\nfrom matplotlib.path import Path",
      "execution_count": null,
      "outputs": []
    },
    {
      "metadata": {
        "trusted": true
      },
      "cell_type": "code",
      "source": " def drawPrepare():\n    fig,ax=plt.subplots(1,1,figsize=(10,10))\n    ax.patch.set_facecolor('cyan')#背景色\n    ax.set_xlim(0,10)\n    ax.set_ylim(0,10)\n    ax.tick_params(labelbottom='off',bottom='False')#軸を消す\n    ax.tick_params(labelleft='off',left='False')\n    return ax\n",
      "execution_count": null,
      "outputs": []
    },
    {
      "metadata": {
        "trusted": true
      },
      "cell_type": "code",
      "source": "def drawPatches(ax):\n    patches=[]\n    patches.append(pts.Circle((2,2),1,color='red'))\n    patches.append(pts.Rectangle((4,7),4.,2.,color='blue'))\n    patches.append(pts.RegularPolygon((7,3),5,2,color='yellow'))\n    verts = [(2.,8.),(3,4),(4,6),(6,2),(8,9)]\n    path = createPath(verts)\n    patches.append(path)\n    for p in patches:\n        ax.add_patch(p)\n",
      "execution_count": null,
      "outputs": []
    },
    {
      "metadata": {
        "trusted": true
      },
      "cell_type": "code",
      "source": "def createPath(verts):#頂点の列から多角形を生成\n    n = len(verts)\n    codes = [Path.MOVETO]\n    for i in range(n-2):\n        codes.append(Path.LINETO)\n    codes.append(Path.CLOSEPOLY)\n    path = Path(verts,codes)\n    return pts.PathPatch(path,facecolor='orange',lw=2)",
      "execution_count": null,
      "outputs": []
    },
    {
      "metadata": {
        "trusted": true
      },
      "cell_type": "code",
      "source": "ax = drawPrepare()\ndrawPatches(ax)\nax.text(5,5,'Text Sample',fontsize=24,color='green')\nplt.show()",
      "execution_count": null,
      "outputs": []
    }
  ],
  "metadata": {
    "kernelspec": {
      "name": "python36",
      "display_name": "Python 3.6",
      "language": "python"
    },
    "language_info": {
      "mimetype": "text/x-python",
      "nbconvert_exporter": "python",
      "name": "python",
      "pygments_lexer": "ipython3",
      "version": "3.6.6",
      "file_extension": ".py",
      "codemirror_mode": {
        "version": 3,
        "name": "ipython"
      }
    }
  },
  "nbformat": 4,
  "nbformat_minor": 2
}