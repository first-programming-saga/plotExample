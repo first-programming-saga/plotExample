{
  "cells": [
    {
      "metadata": {},
      "cell_type": "markdown",
      "source": "# 4つの図を描く\n\nx軸とy軸を共有"
    },
    {
      "metadata": {
        "trusted": true
      },
      "cell_type": "code",
      "source": "import matplotlib.pyplot as plt\nimport math",
      "execution_count": null,
      "outputs": []
    },
    {
      "metadata": {
        "trusted": true
      },
      "cell_type": "code",
      "source": "def createData():\n    xlist = [0.01*i -5  for i in range(0,1000)]\n    y1=[]\n    y2=[]\n    y3=[]\n    y4=[]\n    \n    for x in xlist:\n        y1.append(math.sin(x))\n        y2.append(math.cos(x))\n        y3.append(math.sin(x)*math.cos(x))\n        y4.append(x*math.cos(x))\n\n    return xlist,y1,y2,y3,y4",
      "execution_count": null,
      "outputs": []
    },
    {
      "metadata": {
        "trusted": true
      },
      "cell_type": "code",
      "source": "def draw(x,y1,y2,y3,y4):\n    fig,ax=plt.subplots(2,2,figsize=(10,10),sharex=True,sharey=True)#xy軸のスケールを揃える\n    ax[0,0].set_title('sin(x)')\n    ax[0,0].plot(x,y1)\n    ax[1,0].set_title('cos(x)')\n    ax[1,0].plot(x,y2)\n    ax[0,1].set_title('sin(x)*cos(x)')\n    ax[0,1].plot(x,y3)\n    ax[1,1].set_title('x*cos(x)')\n    ax[1,1].plot(x,y4)\n    plt.show()",
      "execution_count": null,
      "outputs": []
    },
    {
      "metadata": {
        "trusted": true
      },
      "cell_type": "code",
      "source": "x,y1,y2,y3,y4 = createData()\ndraw(x,y1,y2,y3,y4)",
      "execution_count": null,
      "outputs": []
    }
  ],
  "metadata": {
    "kernelspec": {
      "name": "python36",
      "display_name": "Python 3.6",
      "language": "python"
    },
    "language_info": {
      "mimetype": "text/x-python",
      "nbconvert_exporter": "python",
      "name": "python",
      "pygments_lexer": "ipython3",
      "version": "3.6.6",
      "file_extension": ".py",
      "codemirror_mode": {
        "version": 3,
        "name": "ipython"
      }
    }
  },
  "nbformat": 4,
  "nbformat_minor": 2
}