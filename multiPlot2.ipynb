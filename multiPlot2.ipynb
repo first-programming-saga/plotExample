{
  "cells": [
    {
      "cell_type": "markdown",
      "metadata": {},
      "source": [
        "# 4つの図を描く\n",
        "\n",
        "x軸とy軸を共有"
      ]
    },
    {
      "cell_type": "code",
      "execution_count": null,
      "metadata": {
        "trusted": true
      },
      "outputs": [],
      "source": [
        "import matplotlib.pyplot as plt\n",
        "import japanize_matplotlib\n",
        "import math"
      ]
    },
    {
      "cell_type": "code",
      "execution_count": null,
      "metadata": {},
      "outputs": [],
      "source": [
        "plt.rcParams[\"mathtext.fontset\"] = 'cm'\n",
        "plt.rcParams['mathtext.default'] = 'it'\n",
        "plt.rcParams['font.size'] = 12#フォントサイズ\n",
        "plt.rcParams['axes.titlesize'] = 12#フォントサイズ\n",
        "plt.rcParams['xtick.labelsize'] = 12"
      ]
    },
    {
      "cell_type": "code",
      "execution_count": null,
      "metadata": {
        "trusted": true
      },
      "outputs": [],
      "source": [
        "def createData()->tuple[list[float],...]:\n",
        "    n = 1024\n",
        "    xList = [0.01*x -5  for x in range(n)]\n",
        "    y1 = [math.sin(x) for x in xList]\n",
        "    y2 = [math.cos(x) for x in xList]\n",
        "    y3 = [math.sin(x)*math.cos(x) for x in xList]\n",
        "    y4 = [x*math.cos(x) for x in xList]\n",
        "    \n",
        "    return xList, y1, y2, y3, y4"
      ]
    },
    {
      "cell_type": "code",
      "execution_count": null,
      "metadata": {
        "trusted": true
      },
      "outputs": [],
      "source": [
        "def draw(x:list[float], y1:list[float], y2:list[float], \n",
        "        y3:list[float], y4:list[float]):\n",
        "    #xy軸のスケールを揃える\n",
        "    fig, ax = plt.subplots(2, 2, \n",
        "                           sharex = True, sharey = True, facecolor = 'white')\n",
        "    fig.suptitle('マルチプロット例')\n",
        "    #全ての図に共通の設定\n",
        "    for i in range(len(ax)):\n",
        "        for b in ax[i]:\n",
        "            b.set_xlim(-5, 5)\n",
        "            b.set_ylim(-4, 4)\n",
        "            if i == 1:#2行目だけx軸ラベルを表示\n",
        "                b.set_xlabel('$x$')\n",
        "    \n",
        "    ax[0,0].plot(x, y1, label = '$\\sin(x)$', color = 'blue')\n",
        "    ax[1,0].plot(x, y2, label = '$\\cos(x)$', color = 'green')\n",
        "    ax[0,1].plot(x, y3, label = '$\\sin(x) \\cos(x)$', color = 'darkcyan')\n",
        "    ax[1,1].plot(x, y4, label = '$x \\cos(x)$', color = 'red')\n",
        "    \n",
        "    #全ての図の凡例\n",
        "    for a in ax:\n",
        "        for b in a:\n",
        "            b.legend(loc = 'best')\n",
        "    \n",
        "    plt.savefig('multiPlot2.pdf')\n"
      ]
    },
    {
      "cell_type": "code",
      "execution_count": null,
      "metadata": {
        "trusted": true
      },
      "outputs": [],
      "source": [
        "x, y1, y2, y3, y4 = createData()\n",
        "draw(x, y1, y2, y3, y4)"
      ]
    }
  ],
  "metadata": {
    "kernelspec": {
      "display_name": "myenv",
      "language": "python",
      "name": "python3"
    },
    "language_info": {
      "codemirror_mode": {
        "name": "ipython",
        "version": 3
      },
      "file_extension": ".py",
      "mimetype": "text/x-python",
      "name": "python",
      "nbconvert_exporter": "python",
      "pygments_lexer": "ipython3",
      "version": "3.11.6"
    },
    "metadata": {
      "interpreter": {
        "hash": "ddafbbf4347d0b4a8ca2d67a8cf47c9a236a0ee7708cf872d86a0b5d08596010"
      }
    },
    "orig_nbformat": 3,
    "vscode": {
      "interpreter": {
        "hash": "b3b804b6b7a7d9b475cf928428dd1242016eacc24c47853aaf0f8d1d2228aa39"
      }
    }
  },
  "nbformat": 4,
  "nbformat_minor": 2
}
