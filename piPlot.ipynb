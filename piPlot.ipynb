{
  "cells": [
    {
      "metadata": {
        "collapsed": true
      },
      "cell_type": "markdown",
      "source": "# 円グラフ\n1995年と2015年の佐賀県の人口割合：子供(14歳以下)、勤労世代(15歳から64歳)、老年"
    },
    {
      "metadata": {
        "trusted": true
      },
      "cell_type": "code",
      "source": "import matplotlib.pyplot as plt",
      "execution_count": null,
      "outputs": []
    },
    {
      "metadata": {
        "trusted": true
      },
      "cell_type": "code",
      "source": "data2015=[116122,483019,229335]\ndata1995=[160307,566671,157329]\nlabel=['young','production','elderly']\ncolor=['y','c','r']\n\nfig,ax=plt.subplots(1,2,figsize=(20,10))\nplt.rcParams['font.size']=24 #文字の大きさ\nfig.suptitle('Population of Saga') #全体のタイトル\n#1995年の人口比率\nax[0].pie(data1995,labels=label,colors=color,\n        startangle=90,counterclock=False,autopct='%1.1f%%')\nax[0].set_title('1995')\n#2015年の人口比率\nax[1].pie(data2015,labels=label,colors=color,\n        startangle=90,counterclock=False,autopct='%1.1f%%')\nax[1].set_title('2015')\n\nplt.show()",
      "execution_count": null,
      "outputs": []
    },
    {
      "metadata": {
        "trusted": true
      },
      "cell_type": "code",
      "source": "",
      "execution_count": null,
      "outputs": []
    }
  ],
  "metadata": {
    "kernelspec": {
      "name": "python36",
      "display_name": "Python 3.6",
      "language": "python"
    },
    "language_info": {
      "mimetype": "text/x-python",
      "nbconvert_exporter": "python",
      "name": "python",
      "pygments_lexer": "ipython3",
      "version": "3.6.6",
      "file_extension": ".py",
      "codemirror_mode": {
        "version": 3,
        "name": "ipython"
      }
    }
  },
  "nbformat": 4,
  "nbformat_minor": 2
}