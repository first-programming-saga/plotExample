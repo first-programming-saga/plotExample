{
  "cells": [
    {
      "cell_type": "markdown",
      "metadata": {
        "collapsed": true
      },
      "source": [
        "# 円グラフ\n",
        "1995年と2015年の佐賀県の人口割合：年少(14歳以下)、勤労世代(15歳から64歳)、老年"
      ]
    },
    {
      "cell_type": "code",
      "execution_count": null,
      "metadata": {
        "trusted": true
      },
      "outputs": [],
      "source": [
        "import matplotlib.pyplot as plt\n",
        "import japanize_matplotlib"
      ]
    },
    {
      "cell_type": "code",
      "execution_count": null,
      "metadata": {
        "trusted": true
      },
      "outputs": [],
      "source": [
        "#人口データ\n",
        "data = [\n",
        "        [160307, 566671, 157329],# 1995\n",
        "        [116122, 483019, 229335] # 2015\n",
        "]\n",
        "label = ['年少', '生産年齢', '老年']\n",
        "color = ['y', 'c', 'r']\n",
        "year = [1995, 2015]\n",
        "\n",
        "fig,ax = plt.subplots(1, 2, facecolor='white')\n",
        "fig.suptitle('佐賀県の人口') #全体のタイトル\n",
        "\n",
        "for k in range(2):\n",
        "        ax[k].pie(data[k], labels = label, colors = color,\n",
        "        startangle = 90, counterclock = False, autopct = '%1.1f%%')\n",
        "        ax[k].set_title(str(year[k]))\n",
        "\n",
        "plt.savefig('piPlot.pdf')\n"
      ]
    }
  ],
  "metadata": {
    "interpreter": {
      "hash": "6b0d672cbe8d0a33fe0f78ef72c898ec07614ef49828a69cf214e8e34f4a3f57"
    },
    "kernelspec": {
      "display_name": "Python 3.9.5 64-bit (windows store)",
      "language": "python",
      "name": "python3"
    },
    "language_info": {
      "codemirror_mode": {
        "name": "ipython",
        "version": 3
      },
      "file_extension": ".py",
      "mimetype": "text/x-python",
      "name": "python",
      "nbconvert_exporter": "python",
      "pygments_lexer": "ipython3",
      "version": "3.12.1"
    },
    "metadata": {
      "interpreter": {
        "hash": "ddafbbf4347d0b4a8ca2d67a8cf47c9a236a0ee7708cf872d86a0b5d08596010"
      }
    }
  },
  "nbformat": 4,
  "nbformat_minor": 2
}
