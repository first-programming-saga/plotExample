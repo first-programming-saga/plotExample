{
  "cells": [
    {
      "metadata": {
        "trusted": true
      },
      "cell_type": "code",
      "source": "import matplotlib.pyplot as plt",
      "execution_count": null,
      "outputs": []
    },
    {
      "metadata": {
        "trusted": true
      },
      "cell_type": "code",
      "source": "population=[5120,847,1413,1818,1191,1136,1691]\nprefecture=['Fukuoka','Saga','Nakasaki','Kumamoto',\n            'Otita','Miyazaki','Kagoshima']\nx = [i for i in range(len(population))]\nplt.figure(figsize=(10,10))\nplt.rcParams['font.size']=12\nplt.title('Population in Kyushu, 2015',fontsize=28)\nplt.xlabel('prefecture')\nplt.ylabel('population (thousands)')\nplt.bar(x,population,tick_label=prefecture)\nplt.show()",
      "execution_count": null,
      "outputs": []
    },
    {
      "metadata": {
        "trusted": true
      },
      "cell_type": "code",
      "source": "",
      "execution_count": null,
      "outputs": []
    }
  ],
  "metadata": {
    "kernelspec": {
      "name": "python36",
      "display_name": "Python 3.6",
      "language": "python"
    },
    "language_info": {
      "mimetype": "text/x-python",
      "nbconvert_exporter": "python",
      "name": "python",
      "pygments_lexer": "ipython3",
      "version": "3.6.6",
      "file_extension": ".py",
      "codemirror_mode": {
        "version": 3,
        "name": "ipython"
      }
    }
  },
  "nbformat": 4,
  "nbformat_minor": 2
}