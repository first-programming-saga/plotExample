{
  "cells": [
    {
      "cell_type": "code",
      "execution_count": null,
      "metadata": {
        "trusted": true
      },
      "outputs": [],
      "source": [
        "import matplotlib.pyplot as plt\n",
        "import japanize_matplotlib"
      ]
    },
    {
      "cell_type": "code",
      "execution_count": null,
      "metadata": {
        "trusted": true
      },
      "outputs": [],
      "source": [
        "population = [5120, 847, 1413, 1818, 1191, 1136, 1691]\r\n",
        "prefecture = ['福岡', '佐賀', '長崎', '熊本',\r\n",
        "            '大分', '宮崎', '鹿児島']\r\n",
        "x = [i for i in range(len(population))]\r\n",
        "\r\n",
        "plt.figure(figsize = (15, 15))\r\n",
        "plt.rcParams['font.size'] = 28\r\n",
        "\r\n",
        "plt.title('九州の人口, 2015', fontsize = 28)\r\n",
        "plt.xlabel('県', loc = 'right')\r\n",
        "plt.ylabel('人口 (千人)', loc = 'top')\r\n",
        "plt.tick_params(axis = 'both', length = 15)\r\n",
        "\r\n",
        "plt.bar(x, population, tick_label = prefecture)\r\n",
        "\r\n",
        "plt.savefig('plotBar.pdf')\r\n",
        "plt.show()"
      ]
    },
    {
      "cell_type": "code",
      "execution_count": null,
      "metadata": {
        "trusted": true
      },
      "outputs": [],
      "source": []
    }
  ],
  "metadata": {
    "kernelspec": {
      "name": "python3",
      "display_name": "Python 3.9.4 64-bit ('3.9.4': pyenv)"
    },
    "language_info": {
      "name": "python",
      "version": "3.9.4"
    },
    "metadata": {
      "interpreter": {
        "hash": "ddafbbf4347d0b4a8ca2d67a8cf47c9a236a0ee7708cf872d86a0b5d08596010"
      }
    },
    "interpreter": {
      "hash": "8eac0b877443e672c512fc10f9a40a6551a41731384696f22385f08b2b6c8da7"
    }
  },
  "nbformat": 4,
  "nbformat_minor": 2
}