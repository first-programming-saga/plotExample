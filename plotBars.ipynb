{
  "cells": [
    {
      "cell_type": "code",
      "execution_count": null,
      "metadata": {
        "trusted": true
      },
      "outputs": [],
      "source": [
        "import matplotlib.pyplot as plt\n",
        "import japanize_matplotlib"
      ]
    },
    {
      "cell_type": "code",
      "execution_count": null,
      "metadata": {
        "trusted": true
      },
      "outputs": [],
      "source": [
        "population = [5120, 847, 1413, 1818, 1191, 1136, 1691]\n",
        "prefecture = ['福岡', '佐賀', '長崎', '熊本',\n",
        "            '大分', '宮崎', '鹿児島']\n",
        "x = [i for i in range(len(population))]\n",
        "\n",
        "plt.figure(figsize = (15, 15), facecolor = 'white')\n",
        "plt.rcParams['font.size'] = 28\n",
        "\n",
        "plt.title('九州の人口, 2015', fontsize = 28)\n",
        "plt.xlabel('県', loc = 'right')\n",
        "plt.ylabel('人口 (千人)', loc = 'top')\n",
        "plt.tick_params(axis = 'both', length = 15)\n",
        "\n",
        "plt.bar(x, population, tick_label = prefecture)\n",
        "\n",
        "plt.savefig('plotBar.pdf')\n",
        "plt.show()"
      ]
    },
    {
      "cell_type": "code",
      "execution_count": null,
      "metadata": {
        "trusted": true
      },
      "outputs": [],
      "source": []
    }
  ],
  "metadata": {
    "interpreter": {
      "hash": "8eac0b877443e672c512fc10f9a40a6551a41731384696f22385f08b2b6c8da7"
    },
    "kernelspec": {
      "display_name": "Python 3.9.4 64-bit ('3.9.4': pyenv)",
      "name": "python3"
    },
    "language_info": {
      "codemirror_mode": {
        "name": "ipython",
        "version": 3
      },
      "file_extension": ".py",
      "mimetype": "text/x-python",
      "name": "python",
      "nbconvert_exporter": "python",
      "pygments_lexer": "ipython3",
      "version": "3.9.9"
    },
    "metadata": {
      "interpreter": {
        "hash": "ddafbbf4347d0b4a8ca2d67a8cf47c9a236a0ee7708cf872d86a0b5d08596010"
      }
    }
  },
  "nbformat": 4,
  "nbformat_minor": 2
}
