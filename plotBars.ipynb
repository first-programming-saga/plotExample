{
  "cells": [
    {
      "attachments": {},
      "cell_type": "markdown",
      "metadata": {},
      "source": [
        "# 九州各県の人口を棒グラフで表す"
      ]
    },
    {
      "cell_type": "code",
      "execution_count": null,
      "metadata": {
        "trusted": true
      },
      "outputs": [],
      "source": [
        "import matplotlib.pyplot as plt\n",
        "import japanize_matplotlib"
      ]
    },
    {
      "cell_type": "code",
      "execution_count": null,
      "metadata": {},
      "outputs": [],
      "source": [
        "plt.rcParams['font.size'] = 12\n",
        "plt.rcParams['figure.subplot.left']=0.2"
      ]
    },
    {
      "cell_type": "code",
      "execution_count": null,
      "metadata": {},
      "outputs": [],
      "source": [
        "def plotPopulation(prefectures:list[str],populations:list[int], year:int=2015):\n",
        "    \"\"\"\n",
        "    各県の人口を棒グラフで表す\n",
        "\n",
        "    Parameters\n",
        "    ---\n",
        "    prefectures: 県名のリスト\n",
        "    populations: 人口のリスト\n",
        "    \"\"\"\n",
        "    x = [i for i in range(len(populations))]\n",
        "\n",
        "    fig, ax = plt.subplots(facecolor = 'white')\n",
        "\n",
        "    ax.set_title(f'九州の人口, {year}')\n",
        "    ax.set_xlabel('県', loc = 'right')\n",
        "    ax.set_ylabel('人口 (千人)', loc = 'top')\n",
        "    \n",
        "    ax.bar(x, populations, tick_label = prefectures)\n",
        "\n",
        "    fig.savefig('plotBar.pdf')\n",
        "    fig.show()"
      ]
    },
    {
      "cell_type": "code",
      "execution_count": null,
      "metadata": {
        "trusted": true
      },
      "outputs": [],
      "source": [
        "populations = [5120, 847, 1413, 1818, 1191, 1136, 1691]\n",
        "prefectures = ['福岡', '佐賀', '長崎', '熊本',\n",
        "            '大分', '宮崎', '鹿児島']\n",
        "plotPopulation(prefectures,populations)"
      ]
    }
  ],
  "metadata": {
    "kernelspec": {
      "display_name": "myenv",
      "language": "python",
      "name": "python3"
    },
    "language_info": {
      "codemirror_mode": {
        "name": "ipython",
        "version": 3
      },
      "file_extension": ".py",
      "mimetype": "text/x-python",
      "name": "python",
      "nbconvert_exporter": "python",
      "pygments_lexer": "ipython3",
      "version": "3.12.2"
    },
    "metadata": {
      "interpreter": {
        "hash": "ddafbbf4347d0b4a8ca2d67a8cf47c9a236a0ee7708cf872d86a0b5d08596010"
      }
    },
    "vscode": {
      "interpreter": {
        "hash": "b3b804b6b7a7d9b475cf928428dd1242016eacc24c47853aaf0f8d1d2228aa39"
      }
    }
  },
  "nbformat": 4,
  "nbformat_minor": 2
}
