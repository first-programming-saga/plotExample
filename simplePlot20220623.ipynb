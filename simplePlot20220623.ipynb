{
  "cells": [
    {
      "cell_type": "markdown",
      "metadata": {
        "trusted": true
      },
      "source": [
        "# 20220623 小テスト課題\n",
        "\n",
        "九州各県の人口推移を表すプログラムを完成させなさい。"
      ]
    },
    {
      "cell_type": "code",
      "execution_count": null,
      "metadata": {
        "trusted": true
      },
      "outputs": [],
      "source": [
        "import matplotlib.pyplot as plt"
      ]
    },
    {
      "cell_type": "code",
      "execution_count": null,
      "metadata": {
        "trusted": true
      },
      "outputs": [],
      "source": [
        "def plotLines(xlist: list[int], dataList: dict[str,list[int]]):\n",
        "    plt.figure(figsize = (10, 10))\n",
        "    for pref in dataList.keys():\n",
        "\n",
        "        \n",
        "    \n",
        "    \n",
        "    plt.legend(loc = 'center right')\n"
      ]
    },
    {
      "cell_type": "code",
      "execution_count": null,
      "metadata": {
        "trusted": true
      },
      "outputs": [],
      "source": [
        "xlist = [1990, 1995, 2000, 2005, 2010, 2015]\n",
        "dataList = {'Fukuoka':[4758,4873,4968,5014,5039,5120],\n",
        "            'Saga': [882, 885, 884, 874, 859, 847],\n",
        "            'Nagasaki': [1573, 1554, 1532, 1502, 1450, 1413],\n",
        "            'Kumamoto': [1848, 1862, 1870, 1858, 1834, 1818],\n",
        "            'Oita': [1246, 1243, 1236, 1225, 1207, 1191],\n",
        "            'Miyazaki': [1182, 1187, 1187, 1173, 1153, 1136],\n",
        "            'Kagoshima': [1805,1794, 1787, 1763, 1722, 1691]\n",
        "           }\n",
        "plotLines(xlist, dataList)\n",
        "plt.savefig('20220623.png')\n",
        "plt.show()"
      ]
    },
    {
      "cell_type": "code",
      "execution_count": null,
      "metadata": {
        "trusted": true
      },
      "outputs": [],
      "source": []
    }
  ],
  "metadata": {
    "kernelspec": {
      "display_name": "Python 3.6",
      "language": "python",
      "name": "python36"
    },
    "language_info": {
      "codemirror_mode": {
        "name": "ipython",
        "version": 3
      },
      "file_extension": ".py",
      "mimetype": "text/x-python",
      "name": "python",
      "nbconvert_exporter": "python",
      "pygments_lexer": "ipython3",
      "version": "3.6.6"
    }
  },
  "nbformat": 4,
  "nbformat_minor": 2
}
