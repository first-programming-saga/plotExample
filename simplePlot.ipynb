{
  "cells": [
    {
      "metadata": {},
      "cell_type": "markdown",
      "source": [
        "# 簡単なグラフ作成\n",
        "\n",
        "簡単な作図の例。リストxには、$x$軸の値、リストyには$y$の値、リストzにはもう一つの$y$の値を設定する。xlistとylistの組を折れ線グラフで、xlistとzlistの組を点でプロットする。"
      ]
    },
    {
      "metadata": {
        "trusted": true
      },
      "cell_type": "code",
      "source": [
        "import matplotlib.pyplot as plt\n",
        "import japanize_matplotlib"
      ],
      "execution_count": null,
      "outputs": []
    },
    {
      "metadata": {},
      "cell_type": "markdown",
      "source": [
        "(x,y)を曲線で、(x,z)を点で示す。"
      ]
    },
    {
      "metadata": {
        "trusted": true
      },
      "cell_type": "code",
      "source": [
        "def drawData(xList,yList,zList):\n",
        "    plt.figure(figsize=(15,10))#図の大きさ\n",
        "    plt.rcParams[\"font.size\"] = 28#フォントサイズ\n",
        "    plt.title('グラフタイトル')\n",
        "    plt.xlim(-1,6)#x軸の範囲\n",
        "    plt.ylim(0,8)#y軸の範囲\n",
        "    plt.xlabel('x')\n",
        "    plt.ylabel('y')\n",
        "    plt.plot(xList,yList,label='理論',linewidth=2)#折れ線\n",
        "    plt.scatter(xList,zList,label='データ',\n",
        "        color='red',marker='s',linewidths=5)#散布図\n",
        "    plt.legend(loc='upper right')#凡例の位置\n",
        "    plt.savefig('tmp.pdf')#ファイルへ出力\n",
        "    plt.show()"
      ],
      "execution_count": null,
      "outputs": []
    },
    {
      "metadata": {},
      "cell_type": "markdown",
      "source": [
        "データを作成する。"
      ]
    },
    {
      "metadata": {
        "trusted": true
      },
      "cell_type": "code",
      "source": [
        "def createData():\n",
        "    xlist = [0,1,2,4,5]\n",
        "    ylist = [2,3,7,5,0]\n",
        "    zlist = [1,2,6,6,3]\n",
        "    \n",
        "    return xlist,ylist,zlist#三つのリストを返す"
      ],
      "execution_count": null,
      "outputs": []
    },
    {
      "metadata": {},
      "cell_type": "markdown",
      "source": [
        "## main部分\n",
        "x,y,zのデータを作成し、プロットする"
      ]
    },
    {
      "metadata": {
        "trusted": true
      },
      "cell_type": "code",
      "source": [
        "x,y,z = createData()\n",
        "drawData(x,y,z)"
      ],
      "execution_count": null,
      "outputs": []
    },
    {
      "metadata": {
        "trusted": true
      },
      "cell_type": "code",
      "source": [],
      "execution_count": null,
      "outputs": []
    }
  ],
  "metadata": {
    "kernelspec": {
      "name": "python3",
      "display_name": "Python 3.8.7 64-bit",
      "metadata": {
        "interpreter": {
          "hash": "d1c9a4ba5c9c176023b797405478169ed7f0a7109b887eab21bda023c3c6f220"
        }
      }
    },
    "language_info": {
      "mimetype": "text/x-python",
      "nbconvert_exporter": "python",
      "name": "python",
      "pygments_lexer": "ipython3",
      "version": "3.8.7-final",
      "file_extension": ".py",
      "codemirror_mode": {
        "version": 3,
        "name": "ipython"
      }
    }
  },
  "nbformat": 4,
  "nbformat_minor": 2
}