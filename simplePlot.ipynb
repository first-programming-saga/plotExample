{
  "cells": [
    {
      "cell_type": "markdown",
      "metadata": {},
      "source": [
        "# 簡単なグラフ作成\n",
        "\n",
        "簡単な作図の例。リストxには、$x$軸の値、リストyには$y$の値、リストzにはもう一つの$y$の値を設定する。xlistとylistの組を折れ線グラフで、xlistとzlistの組を点でプロットする。"
      ]
    },
    {
      "cell_type": "code",
      "execution_count": null,
      "metadata": {
        "trusted": true
      },
      "outputs": [],
      "source": [
        "import matplotlib.pyplot as plt\n",
        "import japanize_matplotlib"
      ]
    },
    {
      "cell_type": "markdown",
      "metadata": {},
      "source": [
        "(x,y)を曲線で、(x,z)を点で示す。"
      ]
    },
    {
      "cell_type": "code",
      "execution_count": null,
      "metadata": {
        "trusted": true
      },
      "outputs": [],
      "source": [
        "def drawData(xList:list[float], yList:list[float], zList:list[float]):\n",
        "    \"\"\"\n",
        "    xlist-ylistを折れ線で、xlist-zlistを点で作図する\n",
        "    \"\"\"\n",
        "    plt.figure(figsize = (15, 10), facecolor = 'white')#図の大きさ\n",
        "    plt.rcParams[\"mathtext.fontset\"] = 'cm'\n",
        "    plt.rcParams['mathtext.default'] = 'it'\n",
        "    plt.rcParams[\"font.size\"] = 28#フォントサイズ\n",
        "    plt.title('グラフタイトル')\n",
        "    plt.xlim(-1, 6)#x軸の範囲\n",
        "    plt.ylim(0, 8)#y軸の範囲\n",
        "    plt.xlabel('$x$')#x軸のラベル\n",
        "    plt.ylabel('$y$')#y軸のラベル\n",
        "\n",
        "    plt.plot(xList, yList, label = '理論', linewidth = 2)#折れ線\n",
        "    plt.scatter(xList, zList, label = 'データ',\n",
        "        color = 'red', marker = 's', linewidths = 5)#散布図\n",
        "        \n",
        "    plt.legend(loc = 'upper right')#凡例の位置\n",
        "    plt.savefig('tmp.pdf')#ファイルへ出力\n",
        "    plt.show()"
      ]
    },
    {
      "cell_type": "markdown",
      "metadata": {},
      "source": [
        "データを作成する。"
      ]
    },
    {
      "cell_type": "code",
      "execution_count": null,
      "metadata": {
        "trusted": true
      },
      "outputs": [],
      "source": [
        "def createData()->tuple[list[float],list[float],list[float]]:\n",
        "    xlist = [0, 1, 2, 4, 5]\n",
        "    ylist = [2, 3, 7, 5, 0]\n",
        "    zlist = [1, 2, 6, 6, 3]\n",
        "    \n",
        "    return xlist, ylist, zlist#三つのリストを返す"
      ]
    },
    {
      "cell_type": "markdown",
      "metadata": {},
      "source": [
        "## main部分\n",
        "x,y,zのデータを作成し、プロットする"
      ]
    },
    {
      "cell_type": "code",
      "execution_count": null,
      "metadata": {
        "trusted": true
      },
      "outputs": [],
      "source": [
        "x, y, z = createData()\n",
        "drawData(x, y, z)"
      ]
    },
    {
      "cell_type": "code",
      "execution_count": null,
      "metadata": {
        "trusted": true
      },
      "outputs": [],
      "source": []
    }
  ],
  "metadata": {
    "interpreter": {
      "hash": "8eac0b877443e672c512fc10f9a40a6551a41731384696f22385f08b2b6c8da7"
    },
    "kernelspec": {
      "display_name": "Python 3.9.4 64-bit ('3.9.4': pyenv)",
      "name": "python3"
    },
    "language_info": {
      "codemirror_mode": {
        "name": "ipython",
        "version": 3
      },
      "file_extension": ".py",
      "mimetype": "text/x-python",
      "name": "python",
      "nbconvert_exporter": "python",
      "pygments_lexer": "ipython3",
      "version": "3.9.9"
    },
    "metadata": {
      "interpreter": {
        "hash": "ddafbbf4347d0b4a8ca2d67a8cf47c9a236a0ee7708cf872d86a0b5d08596010"
      }
    },
    "orig_nbformat": 3
  },
  "nbformat": 4,
  "nbformat_minor": 2
}
