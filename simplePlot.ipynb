{
  "cells": [
    {
      "metadata": {},
      "cell_type": "markdown",
      "source": "# 簡単なグラフ作成\n\n簡単な作図の例。リストxには、$x$軸の値、リストyには$y$の値、リストzにはもう一つの$y$の値を設定する。xlistとylistの組を折れ線グラフで、xlistとzlistの組を点でプロットする。"
    },
    {
      "metadata": {
        "trusted": true
      },
      "cell_type": "code",
      "source": "import matplotlib.pyplot as plt\nimport random",
      "execution_count": null,
      "outputs": []
    },
    {
      "metadata": {},
      "cell_type": "markdown",
      "source": "(x,y)を曲線で、(x,z)を点で示す。"
    },
    {
      "metadata": {
        "trusted": true
      },
      "cell_type": "code",
      "source": "def drawData(x,y,z):\n    plt.title('graph title')\n#    plt.plot(x,y,'bo')\n    plt.plot(x,y,label='theory',linewidth=2)#折れ線\n    plt.scatter(x,z,label='data',color='red',marker='s')#散布図\n    plt.legend(loc='upper left')#凡例\n    plt.savefig('tmp.png')\n    plt.show()",
      "execution_count": null,
      "outputs": []
    },
    {
      "metadata": {},
      "cell_type": "markdown",
      "source": "データを作成する。"
    },
    {
      "metadata": {
        "trusted": true
      },
      "cell_type": "code",
      "source": "def createData():\n    xlist = [0,1,2,4,5]\n    ylist = [2,3,7,5,0]\n    zlist = [1,2,6,6,3]\n    \n    return xlist,ylist,zlist#三つのリストを返す",
      "execution_count": null,
      "outputs": []
    },
    {
      "metadata": {},
      "cell_type": "markdown",
      "source": "## main部分\nx,y,zのデータを作成し、プロットする"
    },
    {
      "metadata": {
        "trusted": true
      },
      "cell_type": "code",
      "source": "x,y,z = createData()\ndrawData(x,y,z)",
      "execution_count": null,
      "outputs": []
    },
    {
      "metadata": {
        "trusted": true
      },
      "cell_type": "code",
      "source": "",
      "execution_count": null,
      "outputs": []
    }
  ],
  "metadata": {
    "kernelspec": {
      "name": "python36",
      "display_name": "Python 3.6",
      "language": "python"
    },
    "language_info": {
      "mimetype": "text/x-python",
      "nbconvert_exporter": "python",
      "name": "python",
      "pygments_lexer": "ipython3",
      "version": "3.6.6",
      "file_extension": ".py",
      "codemirror_mode": {
        "version": 3,
        "name": "ipython"
      }
    }
  },
  "nbformat": 4,
  "nbformat_minor": 2
}