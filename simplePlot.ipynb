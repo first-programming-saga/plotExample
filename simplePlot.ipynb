{
  "cells": [
    {
      "attachments": {},
      "cell_type": "markdown",
      "metadata": {},
      "source": [
        "# 簡単なグラフ作成\n",
        "\n",
        "簡単な作図の例。\n",
        "- `xList`: $x$軸の値\n",
        "- `yList`: $y$軸の値\n",
        "- `zlist`: もう一つの$y$軸の値\n",
        "- `xlist`と`ylist`の組を折れ線グラフ\n",
        "- `xlist`と`zlist`の組を点でプロット"
      ]
    },
    {
      "cell_type": "code",
      "execution_count": null,
      "metadata": {
        "trusted": true
      },
      "outputs": [],
      "source": [
        "import matplotlib.pyplot as plt\n",
        "import japanize_matplotlib"
      ]
    },
    {
      "attachments": {},
      "cell_type": "markdown",
      "metadata": {},
      "source": [
        "作図属性の設定\n",
        "- 数式フォントの選択\n",
        "- フォントサイズ\n",
        "- 横軸下のスペース"
      ]
    },
    {
      "cell_type": "code",
      "execution_count": null,
      "metadata": {},
      "outputs": [],
      "source": [
        "plt.rcParams[\"mathtext.fontset\"] = 'cm'\n",
        "plt.rcParams['mathtext.default'] = 'it'\n",
        "plt.rcParams[\"font.size\"] = 12#フォントサイズ\n",
        "plt.rcParams['figure.subplot.bottom'] = 0.2#横軸の下のスペース"
      ]
    },
    {
      "attachments": {},
      "cell_type": "markdown",
      "metadata": {},
      "source": [
        "作図をする関数\n",
        "- `subplots()`で初期化\n",
        "- タイトル、作図範囲、ラベル設定\n",
        "- `plot()`: 折れ線グラフ\n",
        "- `scatter()`: 散布図"
      ]
    },
    {
      "cell_type": "code",
      "execution_count": null,
      "metadata": {},
      "outputs": [],
      "source": [
        "def drawData(xList:list[float], yList:list[float], zList:list[float]):\n",
        "    \"\"\"\n",
        "    xlist-ylistを折れ線で、xlist-zlistを点で作図する\n",
        "    \"\"\"\n",
        "    fig, ax = plt.subplots(facecolor = 'white')\n",
        "    ax.set_title('グラフタイトル')\n",
        "    ax.set_xlim(0, 6)#x軸の範囲\n",
        "    ax.set_ylim(0, 8)#y軸の範囲\n",
        "    ax.set_xlabel('$x$')#x軸のラベル\n",
        "    ax.set_ylabel('$y$')#y軸のラベル\n",
        "\n",
        "    ax.plot(xList, yList, label = '理論', linewidth = 2)#折れ線\n",
        "    ax.scatter(xList, zList, label = 'データ',\n",
        "        color = 'red', marker = 's', linewidths = 5)#散布図\n",
        "        \n",
        "    ax.legend(loc = 'upper right')#凡例の位置\n",
        "    plt.savefig('tmp.pdf')#ファイルへ出力\n",
        "    plt.show()"
      ]
    },
    {
      "attachments": {},
      "cell_type": "markdown",
      "metadata": {},
      "source": [
        "データを作成する。"
      ]
    },
    {
      "cell_type": "code",
      "execution_count": null,
      "metadata": {
        "trusted": true
      },
      "outputs": [],
      "source": [
        "def createData()->tuple[list[float],...]:\n",
        "    xList: list[float] = [1, 2, 3, 4, 5]\n",
        "    yList: list[float] = [2, 3, 7, 5, 0]\n",
        "    zList: list[float] = [1, 2, 6, 6, 3]\n",
        "    \n",
        "    return xList, yList, zList#三つのリストを返す"
      ]
    },
    {
      "attachments": {},
      "cell_type": "markdown",
      "metadata": {},
      "source": [
        "## main部分\n",
        "$x$, $y$, $z$のデータを作成し、作図する"
      ]
    },
    {
      "cell_type": "code",
      "execution_count": null,
      "metadata": {
        "trusted": true
      },
      "outputs": [],
      "source": [
        "x, y, z = createData()\n",
        "drawData(x, y, z)"
      ]
    }
  ],
  "metadata": {
    "kernelspec": {
      "display_name": "myenv",
      "language": "python",
      "name": "python3"
    },
    "language_info": {
      "codemirror_mode": {
        "name": "ipython",
        "version": 3
      },
      "file_extension": ".py",
      "mimetype": "text/x-python",
      "name": "python",
      "nbconvert_exporter": "python",
      "pygments_lexer": "ipython3",
      "version": "3.12.1"
    },
    "metadata": {
      "interpreter": {
        "hash": "ddafbbf4347d0b4a8ca2d67a8cf47c9a236a0ee7708cf872d86a0b5d08596010"
      }
    },
    "orig_nbformat": 3,
    "vscode": {
      "interpreter": {
        "hash": "b3b804b6b7a7d9b475cf928428dd1242016eacc24c47853aaf0f8d1d2228aa39"
      }
    }
  },
  "nbformat": 4,
  "nbformat_minor": 2
}
