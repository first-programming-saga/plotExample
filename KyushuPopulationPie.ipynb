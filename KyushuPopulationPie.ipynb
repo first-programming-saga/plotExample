{
  "cells": [
    {
      "attachments": {},
      "cell_type": "markdown",
      "metadata": {},
      "source": [
        "# Excelデータから作図\n",
        "\n",
        "九州各県の人口推移をまとめたexcelから、円グラフを作図"
      ]
    },
    {
      "cell_type": "code",
      "execution_count": null,
      "metadata": {
        "trusted": true
      },
      "outputs": [],
      "source": [
        "import pandas\n",
        "import matplotlib.pyplot as plt\n",
        "import japanize_matplotlib"
      ]
    },
    {
      "cell_type": "code",
      "execution_count": null,
      "metadata": {},
      "outputs": [],
      "source": [
        "plt.rcParams['font.size'] = 28"
      ]
    },
    {
      "cell_type": "code",
      "execution_count": null,
      "metadata": {},
      "outputs": [],
      "source": [
        "def drawPi(df:pandas.DataFrame,year:list[int],size:int):\n",
        "    xsize = size * len(year)\n",
        "    fig, ax = plt.subplots(1, len(year), figsize=(xsize, size),\n",
        "            facecolor = 'w')\n",
        "    plt.suptitle('九州の人口')\n",
        "    #各県のデータをプロット\n",
        "    for i,y in enumerate(year):\n",
        "        ser = df[y]\n",
        "        #Seriesの名前を消去：消さないと左に小さく表示されてしまう\n",
        "        ser.name = '' \n",
        "        ser.plot.pie(ax = ax[i], startangle = 90, \n",
        "            counterclock = False, autopct = '%1.2f%%', title = str(y))\n",
        "\n",
        "    plt.savefig('KyushuPopulationPie.pdf')\n",
        "    plt.show()"
      ]
    },
    {
      "cell_type": "code",
      "execution_count": null,
      "metadata": {
        "trusted": true
      },
      "outputs": [],
      "source": [
        "filename = 'KyushuPopulation.xlsx'\n",
        "with pandas.ExcelFile(filename) as f:\n",
        "    df = pandas.read_excel(f)\n",
        "df.set_index('県', inplace = True) #左端のカラムにインデクスを設定\n",
        "   \n",
        "#図の準備\n",
        "year = [1995, 2015]\n",
        "size = 10\n",
        "drawPi(df,year,size)"
      ]
    }
  ],
  "metadata": {
    "kernelspec": {
      "display_name": "myenv",
      "language": "python",
      "name": "python3"
    },
    "language_info": {
      "codemirror_mode": {
        "name": "ipython",
        "version": 3
      },
      "file_extension": ".py",
      "mimetype": "text/x-python",
      "name": "python",
      "nbconvert_exporter": "python",
      "pygments_lexer": "ipython3",
      "version": "3.10.8"
    },
    "vscode": {
      "interpreter": {
        "hash": "b3b804b6b7a7d9b475cf928428dd1242016eacc24c47853aaf0f8d1d2228aa39"
      }
    }
  },
  "nbformat": 4,
  "nbformat_minor": 2
}
