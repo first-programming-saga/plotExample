{
  "cells": [
    {
      "attachments": {},
      "cell_type": "markdown",
      "metadata": {
        "trusted": true
      },
      "source": [
        "# 確認テスト課題\n",
        "\n",
        "九州各県の人口推移を表すプログラムを完成させなさい。"
      ]
    },
    {
      "cell_type": "code",
      "execution_count": null,
      "metadata": {
        "trusted": true
      },
      "outputs": [],
      "source": [
        "import matplotlib.pyplot as plt\n",
        "import japanize_matplotlib"
      ]
    },
    {
      "cell_type": "code",
      "execution_count": null,
      "metadata": {},
      "outputs": [],
      "source": [
        "plt.rcParams[\"mathtext.fontset\"] = 'cm'\n",
        "plt.rcParams['mathtext.default'] = 'it'\n",
        "plt.rcParams[\"font.size\"] = 28#フォントサイズ\n",
        "plt.rcParams['figure.subplot.bottom']=0.2"
      ]
    },
    {
      "cell_type": "code",
      "execution_count": null,
      "metadata": {
        "trusted": true
      },
      "outputs": [],
      "source": [
        "def plotLines(xlist: list[int], dataList: dict[str,list[int]]):\n",
        "    plt.figure(figsize = (10, 10))\n",
        "\n",
        "\n",
        "\n",
        "\n",
        "\n",
        "    plt.legend(loc = 'center right')\n"
      ]
    },
    {
      "cell_type": "code",
      "execution_count": null,
      "metadata": {
        "trusted": true
      },
      "outputs": [],
      "source": [
        "xList  = [1990, 1995, 2000, 2005, 2010, 2015]\n",
        "dataList = {\n",
        "    '福岡':[4758,4873,4968,5014,5039,5120],\n",
        "    '佐賀': [882, 885, 884, 874, 859, 847],\n",
        "    '長崎': [1573, 1554, 1532, 1502, 1450, 1413],\n",
        "    '熊本': [1848, 1862, 1870, 1858, 1834, 1818],\n",
        "    '大分': [1246, 1243, 1236, 1225, 1207, 1191],\n",
        "    '宮崎': [1182, 1187, 1187, 1173, 1153, 1136],\n",
        "    '鹿児島': [1805,1794, 1787, 1763, 1722, 1691]\n",
        "    }\n",
        "plotLines(xList, dataList)\n",
        "plt.savefig('exercise.png')\n",
        "plt.show()"
      ]
    }
  ],
  "metadata": {
    "kernelspec": {
      "display_name": "myenv",
      "language": "python",
      "name": "python3"
    },
    "language_info": {
      "codemirror_mode": {
        "name": "ipython",
        "version": 3
      },
      "file_extension": ".py",
      "mimetype": "text/x-python",
      "name": "python",
      "nbconvert_exporter": "python",
      "pygments_lexer": "ipython3",
      "version": "3.10.8 | packaged by conda-forge | (main, Nov 22 2022, 08:16:33) [MSC v.1929 64 bit (AMD64)]"
    },
    "vscode": {
      "interpreter": {
        "hash": "b3b804b6b7a7d9b475cf928428dd1242016eacc24c47853aaf0f8d1d2228aa39"
      }
    }
  },
  "nbformat": 4,
  "nbformat_minor": 2
}
